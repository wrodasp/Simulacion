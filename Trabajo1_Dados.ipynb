{
 "cells": [
  {
   "cell_type": "markdown",
   "metadata": {},
   "source": [
    "## Wilson Rodas\n",
    "\n",
    "### Ejercicio de 2 dados (Probabilidad)"
   ]
  },
  {
   "cell_type": "code",
   "execution_count": 3,
   "metadata": {},
   "outputs": [],
   "source": [
    "#Realizamos las importaciones\n",
    "import random\n",
    "import matplotlib.pyplot as plt\n",
    "\n",
    "%matplotlib inline"
   ]
  },
  {
   "cell_type": "code",
   "execution_count": 14,
   "metadata": {},
   "outputs": [
    {
     "name": "stdout",
     "output_type": "stream",
     "text": [
      "Total de casos:  100\n",
      "Suma\t\tFrecuencia\t\tProbabilidad\n",
      "Lista:  11\n",
      "5 \t\t 14 \t\t 0.14\n",
      "8 \t\t 15 \t\t 0.15\n",
      "6 \t\t 18 \t\t 0.18\n",
      "12 \t\t 3 \t\t 0.03\n",
      "10 \t\t 5 \t\t 0.05\n",
      "4 \t\t 8 \t\t 0.08\n",
      "7 \t\t 19 \t\t 0.19\n",
      "9 \t\t 7 \t\t 0.07\n",
      "2 \t\t 3 \t\t 0.03\n",
      "3 \t\t 4 \t\t 0.04\n",
      "11 \t\t 4 \t\t 0.04\n",
      "\n",
      "Grafica con la sumatoria total: 100\n"
     ]
    },
    {
     "data": {
      "image/png": "[encoded data removed]",
      "text/plain": [
       "<Figure size 432x288 with 1 Axes>"
      ]
     },
     "metadata": {
      "needs_background": "light"
     },
     "output_type": "display_data"
    }
   ],
   "source": [
    "casos = 100\n",
    "dado1 = 0\n",
    "dado2 = 0\n",
    "resultados = []\n",
    "valorRepetido = False\n",
    "\n",
    "for turno in range(1, casos + 1):\n",
    "    dado1 = random.randrange(1,7)\n",
    "    dado2 = random.randrange(1,7)\n",
    "    suma = dado1 + dado2\n",
    "\n",
    "    for datos in resultados:\n",
    "        if datos[\"suma\"] == suma:\n",
    "            datos[\"frecuencia\"] += 1\n",
    "            valorRepetido = True\n",
    "            break\n",
    "\n",
    "    if not valorRepetido:\n",
    "        resultados.append({\"suma\": suma, \"frecuencia\": 1})\n",
    "    \n",
    "    valorRepetido = False\n",
    "\n",
    "print(\"Total de casos: \", casos)\n",
    "print(\"Suma\\t\\tFrecuencia\\t\\tProbabilidad\")\n",
    "\n",
    "print(\"Lista: \",len(resultados))\n",
    "for datos in resultados:\n",
    "    print(datos[\"suma\"], \"\\t\\t\", datos[\"frecuencia\"], \"\\t\\t\", (datos[\"frecuencia\"] / casos))\n",
    "\n",
    "print('\\nGrafica con la sumatoria total: 100')\n",
    "plt.hist(datos[\"suma\"])\n",
    "plt.title(\"Casos: \" + str(casos))\n",
    "plt.xlabel(\"Suma\")\n",
    "plt.ylabel(\"Frecuencia\")\n",
    "plt.show()"
   ]
  },
  {
   "cell_type": "code",
   "execution_count": null,
   "metadata": {},
   "outputs": [],
   "source": []
  }
 ],
 "metadata": {
  "kernelspec": {
   "display_name": "Python 3",
   "language": "python",
   "name": "python3"
  },
  "language_info": {
   "codemirror_mode": {
    "name": "ipython",
    "version": 3
   },
   "file_extension": ".py",
   "mimetype": "text/x-python",
   "name": "python",
   "nbconvert_exporter": "python",
   "pygments_lexer": "ipython3",
   "version": "3.7.9"
  }
 },
 "nbformat": 4,
 "nbformat_minor": 4
}
