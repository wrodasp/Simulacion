{
 "cells": [
  {
   "cell_type": "markdown",
   "metadata": {},
   "source": [
    "# Wilson Rodas\n",
    "## Modelo Lineal"
   ]
  },
  {
   "cell_type": "code",
   "execution_count": 9,
   "metadata": {},
   "outputs": [],
   "source": [
    "#Importación de las librerias necesarias\n",
    "import pandas as pd\n",
    "import numpy as np\n",
    "from datetime import datetime\n",
    "from sklearn import linear_model\n",
    "import matplotlib.pyplot as plt\n",
    "%matplotlib inline"
   ]
  },
  {
   "cell_type": "code",
   "execution_count": 17,
   "metadata": {},
   "outputs": [
    {
     "data": {
      "text/html": [
       "<div>\n",
       "<style scoped>\n",
       "    .dataframe tbody tr th:only-of-type {\n",
       "        vertical-align: middle;\n",
       "    }\n",
       "\n",
       "    .dataframe tbody tr th {\n",
       "        vertical-align: top;\n",
       "    }\n",
       "\n",
       "    .dataframe thead th {\n",
       "        text-align: right;\n",
       "    }\n",
       "</style>\n",
       "<table border=\"1\" class=\"dataframe\">\n",
       "  <thead>\n",
       "    <tr style=\"text-align: right;\">\n",
       "      <th></th>\n",
       "      <th>muestras</th>\n",
       "      <th>muestras_pcr</th>\n",
       "      <th>muestras_pcr_nuevas</th>\n",
       "      <th>pruebas_rezagadas</th>\n",
       "      <th>muertes_confirmadas</th>\n",
       "      <th>muertes_probables</th>\n",
       "      <th>muertes</th>\n",
       "      <th>muertes_nuevas</th>\n",
       "      <th>positivas</th>\n",
       "      <th>positivas_pcr</th>\n",
       "      <th>...</th>\n",
       "      <th>defunciones_2017</th>\n",
       "      <th>defunciones_2017_nuevas</th>\n",
       "      <th>defunciones_2016</th>\n",
       "      <th>defunciones_2016_nuevas</th>\n",
       "      <th>defunciones_2015</th>\n",
       "      <th>defunciones_2015_nuevas</th>\n",
       "      <th>hospitalizadas_altas</th>\n",
       "      <th>hospitalizadas_estables</th>\n",
       "      <th>hospitalizadas_pronostico_reservadas</th>\n",
       "      <th>created_at</th>\n",
       "    </tr>\n",
       "  </thead>\n",
       "  <tbody>\n",
       "    <tr>\n",
       "      <th>0</th>\n",
       "      <td>129</td>\n",
       "      <td>129</td>\n",
       "      <td>0</td>\n",
       "      <td>106</td>\n",
       "      <td>1</td>\n",
       "      <td>0</td>\n",
       "      <td>1</td>\n",
       "      <td>0</td>\n",
       "      <td>23</td>\n",
       "      <td>23</td>\n",
       "      <td>...</td>\n",
       "      <td>14506</td>\n",
       "      <td>217</td>\n",
       "      <td>13643</td>\n",
       "      <td>212</td>\n",
       "      <td>12866</td>\n",
       "      <td>167</td>\n",
       "      <td>0</td>\n",
       "      <td>0</td>\n",
       "      <td>1</td>\n",
       "      <td>13/03/2020</td>\n",
       "    </tr>\n",
       "    <tr>\n",
       "      <th>1</th>\n",
       "      <td>206</td>\n",
       "      <td>206</td>\n",
       "      <td>77</td>\n",
       "      <td>178</td>\n",
       "      <td>2</td>\n",
       "      <td>0</td>\n",
       "      <td>2</td>\n",
       "      <td>1</td>\n",
       "      <td>28</td>\n",
       "      <td>28</td>\n",
       "      <td>...</td>\n",
       "      <td>14718</td>\n",
       "      <td>212</td>\n",
       "      <td>13848</td>\n",
       "      <td>205</td>\n",
       "      <td>13047</td>\n",
       "      <td>181</td>\n",
       "      <td>0</td>\n",
       "      <td>7</td>\n",
       "      <td>3</td>\n",
       "      <td>14/03/2020</td>\n",
       "    </tr>\n",
       "    <tr>\n",
       "      <th>2</th>\n",
       "      <td>273</td>\n",
       "      <td>273</td>\n",
       "      <td>67</td>\n",
       "      <td>236</td>\n",
       "      <td>2</td>\n",
       "      <td>0</td>\n",
       "      <td>2</td>\n",
       "      <td>0</td>\n",
       "      <td>37</td>\n",
       "      <td>37</td>\n",
       "      <td>...</td>\n",
       "      <td>14926</td>\n",
       "      <td>208</td>\n",
       "      <td>14048</td>\n",
       "      <td>200</td>\n",
       "      <td>13228</td>\n",
       "      <td>181</td>\n",
       "      <td>0</td>\n",
       "      <td>7</td>\n",
       "      <td>2</td>\n",
       "      <td>15/03/2020</td>\n",
       "    </tr>\n",
       "    <tr>\n",
       "      <th>3</th>\n",
       "      <td>354</td>\n",
       "      <td>354</td>\n",
       "      <td>81</td>\n",
       "      <td>296</td>\n",
       "      <td>2</td>\n",
       "      <td>0</td>\n",
       "      <td>2</td>\n",
       "      <td>0</td>\n",
       "      <td>58</td>\n",
       "      <td>58</td>\n",
       "      <td>...</td>\n",
       "      <td>15164</td>\n",
       "      <td>238</td>\n",
       "      <td>14238</td>\n",
       "      <td>190</td>\n",
       "      <td>13388</td>\n",
       "      <td>160</td>\n",
       "      <td>0</td>\n",
       "      <td>9</td>\n",
       "      <td>5</td>\n",
       "      <td>16/03/2020</td>\n",
       "    </tr>\n",
       "    <tr>\n",
       "      <th>4</th>\n",
       "      <td>762</td>\n",
       "      <td>762</td>\n",
       "      <td>408</td>\n",
       "      <td>651</td>\n",
       "      <td>2</td>\n",
       "      <td>0</td>\n",
       "      <td>2</td>\n",
       "      <td>0</td>\n",
       "      <td>111</td>\n",
       "      <td>111</td>\n",
       "      <td>...</td>\n",
       "      <td>15347</td>\n",
       "      <td>183</td>\n",
       "      <td>14412</td>\n",
       "      <td>174</td>\n",
       "      <td>13550</td>\n",
       "      <td>162</td>\n",
       "      <td>0</td>\n",
       "      <td>9</td>\n",
       "      <td>5</td>\n",
       "      <td>17/03/2020</td>\n",
       "    </tr>\n",
       "    <tr>\n",
       "      <th>...</th>\n",
       "      <td>...</td>\n",
       "      <td>...</td>\n",
       "      <td>...</td>\n",
       "      <td>...</td>\n",
       "      <td>...</td>\n",
       "      <td>...</td>\n",
       "      <td>...</td>\n",
       "      <td>...</td>\n",
       "      <td>...</td>\n",
       "      <td>...</td>\n",
       "      <td>...</td>\n",
       "      <td>...</td>\n",
       "      <td>...</td>\n",
       "      <td>...</td>\n",
       "      <td>...</td>\n",
       "      <td>...</td>\n",
       "      <td>...</td>\n",
       "      <td>...</td>\n",
       "      <td>...</td>\n",
       "      <td>...</td>\n",
       "      <td>...</td>\n",
       "    </tr>\n",
       "    <tr>\n",
       "      <th>242</th>\n",
       "      <td>597099</td>\n",
       "      <td>576527</td>\n",
       "      <td>559</td>\n",
       "      <td>49598</td>\n",
       "      <td>8525</td>\n",
       "      <td>4324</td>\n",
       "      <td>12849</td>\n",
       "      <td>10</td>\n",
       "      <td>184667</td>\n",
       "      <td>175711</td>\n",
       "      <td>...</td>\n",
       "      <td>60345</td>\n",
       "      <td>186</td>\n",
       "      <td>58543</td>\n",
       "      <td>184</td>\n",
       "      <td>56127</td>\n",
       "      <td>163</td>\n",
       "      <td>22028</td>\n",
       "      <td>471</td>\n",
       "      <td>335</td>\n",
       "      <td>10/11/2020</td>\n",
       "    </tr>\n",
       "    <tr>\n",
       "      <th>243</th>\n",
       "      <td>600741</td>\n",
       "      <td>580169</td>\n",
       "      <td>3642</td>\n",
       "      <td>49067</td>\n",
       "      <td>8592</td>\n",
       "      <td>4328</td>\n",
       "      <td>12920</td>\n",
       "      <td>71</td>\n",
       "      <td>185586</td>\n",
       "      <td>176630</td>\n",
       "      <td>...</td>\n",
       "      <td>60536</td>\n",
       "      <td>191</td>\n",
       "      <td>58743</td>\n",
       "      <td>200</td>\n",
       "      <td>56312</td>\n",
       "      <td>185</td>\n",
       "      <td>22099</td>\n",
       "      <td>471</td>\n",
       "      <td>337</td>\n",
       "      <td>11/11/2020</td>\n",
       "    </tr>\n",
       "    <tr>\n",
       "      <th>244</th>\n",
       "      <td>605331</td>\n",
       "      <td>584759</td>\n",
       "      <td>4590</td>\n",
       "      <td>50256</td>\n",
       "      <td>8614</td>\n",
       "      <td>4332</td>\n",
       "      <td>12946</td>\n",
       "      <td>26</td>\n",
       "      <td>186469</td>\n",
       "      <td>177513</td>\n",
       "      <td>...</td>\n",
       "      <td>60709</td>\n",
       "      <td>173</td>\n",
       "      <td>58944</td>\n",
       "      <td>201</td>\n",
       "      <td>56502</td>\n",
       "      <td>190</td>\n",
       "      <td>22195</td>\n",
       "      <td>484</td>\n",
       "      <td>350</td>\n",
       "      <td>12/11/2020</td>\n",
       "    </tr>\n",
       "    <tr>\n",
       "      <th>245</th>\n",
       "      <td>610265</td>\n",
       "      <td>589693</td>\n",
       "      <td>4934</td>\n",
       "      <td>50604</td>\n",
       "      <td>8642</td>\n",
       "      <td>4335</td>\n",
       "      <td>12977</td>\n",
       "      <td>31</td>\n",
       "      <td>187630</td>\n",
       "      <td>178674</td>\n",
       "      <td>...</td>\n",
       "      <td>60872</td>\n",
       "      <td>163</td>\n",
       "      <td>59107</td>\n",
       "      <td>163</td>\n",
       "      <td>56683</td>\n",
       "      <td>181</td>\n",
       "      <td>22242</td>\n",
       "      <td>462</td>\n",
       "      <td>334</td>\n",
       "      <td>13/11/2020</td>\n",
       "    </tr>\n",
       "    <tr>\n",
       "      <th>246</th>\n",
       "      <td>614531</td>\n",
       "      <td>593959</td>\n",
       "      <td>4266</td>\n",
       "      <td>50485</td>\n",
       "      <td>8658</td>\n",
       "      <td>4339</td>\n",
       "      <td>12997</td>\n",
       "      <td>20</td>\n",
       "      <td>188583</td>\n",
       "      <td>179627</td>\n",
       "      <td>...</td>\n",
       "      <td>61044</td>\n",
       "      <td>172</td>\n",
       "      <td>59317</td>\n",
       "      <td>210</td>\n",
       "      <td>56864</td>\n",
       "      <td>181</td>\n",
       "      <td>22346</td>\n",
       "      <td>484</td>\n",
       "      <td>324</td>\n",
       "      <td>14/11/2020</td>\n",
       "    </tr>\n",
       "  </tbody>\n",
       "</table>\n",
       "<p>247 rows × 32 columns</p>\n",
       "</div>"
      ],
      "text/plain": [
       "     muestras  muestras_pcr  muestras_pcr_nuevas  pruebas_rezagadas  \\\n",
       "0         129           129                    0                106   \n",
       "1         206           206                   77                178   \n",
       "2         273           273                   67                236   \n",
       "3         354           354                   81                296   \n",
       "4         762           762                  408                651   \n",
       "..        ...           ...                  ...                ...   \n",
       "242    597099        576527                  559              49598   \n",
       "243    600741        580169                 3642              49067   \n",
       "244    605331        584759                 4590              50256   \n",
       "245    610265        589693                 4934              50604   \n",
       "246    614531        593959                 4266              50485   \n",
       "\n",
       "     muertes_confirmadas  muertes_probables  muertes  muertes_nuevas  \\\n",
       "0                      1                  0        1               0   \n",
       "1                      2                  0        2               1   \n",
       "2                      2                  0        2               0   \n",
       "3                      2                  0        2               0   \n",
       "4                      2                  0        2               0   \n",
       "..                   ...                ...      ...             ...   \n",
       "242                 8525               4324    12849              10   \n",
       "243                 8592               4328    12920              71   \n",
       "244                 8614               4332    12946              26   \n",
       "245                 8642               4335    12977              31   \n",
       "246                 8658               4339    12997              20   \n",
       "\n",
       "     positivas  positivas_pcr  ...  defunciones_2017  defunciones_2017_nuevas  \\\n",
       "0           23             23  ...             14506                      217   \n",
       "1           28             28  ...             14718                      212   \n",
       "2           37             37  ...             14926                      208   \n",
       "3           58             58  ...             15164                      238   \n",
       "4          111            111  ...             15347                      183   \n",
       "..         ...            ...  ...               ...                      ...   \n",
       "242     184667         175711  ...             60345                      186   \n",
       "243     185586         176630  ...             60536                      191   \n",
       "244     186469         177513  ...             60709                      173   \n",
       "245     187630         178674  ...             60872                      163   \n",
       "246     188583         179627  ...             61044                      172   \n",
       "\n",
       "     defunciones_2016  defunciones_2016_nuevas  defunciones_2015  \\\n",
       "0               13643                      212             12866   \n",
       "1               13848                      205             13047   \n",
       "2               14048                      200             13228   \n",
       "3               14238                      190             13388   \n",
       "4               14412                      174             13550   \n",
       "..                ...                      ...               ...   \n",
       "242             58543                      184             56127   \n",
       "243             58743                      200             56312   \n",
       "244             58944                      201             56502   \n",
       "245             59107                      163             56683   \n",
       "246             59317                      210             56864   \n",
       "\n",
       "     defunciones_2015_nuevas  hospitalizadas_altas  hospitalizadas_estables  \\\n",
       "0                        167                     0                        0   \n",
       "1                        181                     0                        7   \n",
       "2                        181                     0                        7   \n",
       "3                        160                     0                        9   \n",
       "4                        162                     0                        9   \n",
       "..                       ...                   ...                      ...   \n",
       "242                      163                 22028                      471   \n",
       "243                      185                 22099                      471   \n",
       "244                      190                 22195                      484   \n",
       "245                      181                 22242                      462   \n",
       "246                      181                 22346                      484   \n",
       "\n",
       "     hospitalizadas_pronostico_reservadas  created_at  \n",
       "0                                       1  13/03/2020  \n",
       "1                                       3  14/03/2020  \n",
       "2                                       2  15/03/2020  \n",
       "3                                       5  16/03/2020  \n",
       "4                                       5  17/03/2020  \n",
       "..                                    ...         ...  \n",
       "242                                   335  10/11/2020  \n",
       "243                                   337  11/11/2020  \n",
       "244                                   350  12/11/2020  \n",
       "245                                   334  13/11/2020  \n",
       "246                                   324  14/11/2020  \n",
       "\n",
       "[247 rows x 32 columns]"
      ]
     },
     "execution_count": 17,
     "metadata": {},
     "output_type": "execute_result"
    }
   ],
   "source": [
    "#Obtención de los datos de COVID-19 de Ecuador\n",
    "url_datos = 'DatosCOVID2020.csv'\n",
    "\n",
    "datos = pd.read_csv(url_datos, sep = ',')\n",
    "datos"
   ]
  },
  {
   "cell_type": "markdown",
   "metadata": {},
   "source": [
    "### 1) Predicción de nuevos casos positivos (Próxima semana, Próximo mes)"
   ]
  },
  {
   "cell_type": "code",
   "execution_count": 21,
   "metadata": {},
   "outputs": [
    {
     "data": {
      "text/html": [
       "<div>\n",
       "<style scoped>\n",
       "    .dataframe tbody tr th:only-of-type {\n",
       "        vertical-align: middle;\n",
       "    }\n",
       "\n",
       "    .dataframe tbody tr th {\n",
       "        vertical-align: top;\n",
       "    }\n",
       "\n",
       "    .dataframe thead th {\n",
       "        text-align: right;\n",
       "    }\n",
       "</style>\n",
       "<table border=\"1\" class=\"dataframe\">\n",
       "  <thead>\n",
       "    <tr style=\"text-align: right;\">\n",
       "      <th></th>\n",
       "      <th>positivas</th>\n",
       "      <th>created_at</th>\n",
       "    </tr>\n",
       "  </thead>\n",
       "  <tbody>\n",
       "    <tr>\n",
       "      <th>0</th>\n",
       "      <td>23</td>\n",
       "      <td>72</td>\n",
       "    </tr>\n",
       "    <tr>\n",
       "      <th>1</th>\n",
       "      <td>28</td>\n",
       "      <td>73</td>\n",
       "    </tr>\n",
       "    <tr>\n",
       "      <th>2</th>\n",
       "      <td>37</td>\n",
       "      <td>74</td>\n",
       "    </tr>\n",
       "    <tr>\n",
       "      <th>3</th>\n",
       "      <td>58</td>\n",
       "      <td>75</td>\n",
       "    </tr>\n",
       "    <tr>\n",
       "      <th>4</th>\n",
       "      <td>111</td>\n",
       "      <td>76</td>\n",
       "    </tr>\n",
       "    <tr>\n",
       "      <th>...</th>\n",
       "      <td>...</td>\n",
       "      <td>...</td>\n",
       "    </tr>\n",
       "    <tr>\n",
       "      <th>242</th>\n",
       "      <td>184667</td>\n",
       "      <td>314</td>\n",
       "    </tr>\n",
       "    <tr>\n",
       "      <th>243</th>\n",
       "      <td>185586</td>\n",
       "      <td>315</td>\n",
       "    </tr>\n",
       "    <tr>\n",
       "      <th>244</th>\n",
       "      <td>186469</td>\n",
       "      <td>316</td>\n",
       "    </tr>\n",
       "    <tr>\n",
       "      <th>245</th>\n",
       "      <td>187630</td>\n",
       "      <td>317</td>\n",
       "    </tr>\n",
       "    <tr>\n",
       "      <th>246</th>\n",
       "      <td>188583</td>\n",
       "      <td>318</td>\n",
       "    </tr>\n",
       "  </tbody>\n",
       "</table>\n",
       "<p>247 rows × 2 columns</p>\n",
       "</div>"
      ],
      "text/plain": [
       "     positivas  created_at\n",
       "0           23          72\n",
       "1           28          73\n",
       "2           37          74\n",
       "3           58          75\n",
       "4          111          76\n",
       "..         ...         ...\n",
       "242     184667         314\n",
       "243     185586         315\n",
       "244     186469         316\n",
       "245     187630         317\n",
       "246     188583         318\n",
       "\n",
       "[247 rows x 2 columns]"
      ]
     },
     "execution_count": 21,
     "metadata": {},
     "output_type": "execute_result"
    }
   ],
   "source": [
    "#Se filtran los datos para obtener solo los casos positivos\n",
    "datos_infectados = datos.loc[:, ['positivas', 'created_at']]\n",
    "\n",
    "#Expresar los datos de fecha en número de dias desde el inicio de año\n",
    "formato = '%d/%m/%Y'\n",
    "fecha = datos_infectados['created_at']\n",
    "datos_infectados['created_at'] = fecha.map(lambda x: \n",
    "    (datetime.strptime(x, formato) - datetime.strptime('01/01/2020', formato)).days\n",
    ")\n",
    "\n",
    "datos_infectados"
   ]
  },
  {
   "cell_type": "code",
   "execution_count": 23,
   "metadata": {
    "scrolled": true
   },
   "outputs": [
    {
     "data": {
      "text/plain": [
       "<AxesSubplot:xlabel='created_at'>"
      ]
     },
     "execution_count": 23,
     "metadata": {},
     "output_type": "execute_result"
    },
    {
     "data": {
      "image/png": "[encoded data removed]",
      "text/plain": [
       "<Figure size 432x288 with 1 Axes>"
      ]
     },
     "metadata": {
      "needs_background": "light"
     },
     "output_type": "display_data"
    }
   ],
   "source": [
    "datos_infectados.plot(x = 'created_at', y = 'positivas')"
   ]
  },
  {
   "cell_type": "markdown",
   "metadata": {},
   "source": [
    "Como se puede observar, el número de casos inicia el día 72 (13/03/2020) con 23 casos confirmados. Hasta el dia 318 (14/11/2020) se registran 188583 casos confirmados."
   ]
  },
  {
   "cell_type": "code",
   "execution_count": 24,
   "metadata": {},
   "outputs": [
    {
     "data": {
      "text/plain": [
       "LinearRegression()"
      ]
     },
     "execution_count": 24,
     "metadata": {},
     "output_type": "execute_result"
    }
   ],
   "source": [
    "#Obtención de las variables para el entrenamiento\n",
    "x = list(datos_infectados.iloc[:, 1]) #Fecha (Número de día)\n",
    "y = list(datos_infectados.iloc[:, 0]) #Numero de infectados\n",
    "\n",
    "#Creación y entranamiento del modelo\n",
    "modelo_lineal = linear_model.LinearRegression()\n",
    "modelo_lineal.fit(np.array(x).reshape(-1, 1), y)"
   ]
  },
  {
   "cell_type": "markdown",
   "metadata": {},
   "source": [
    "### 1.1 Predicción para una semana"
   ]
  },
  {
   "cell_type": "code",
   "execution_count": 37,
   "metadata": {},
   "outputs": [
    {
     "name": "stdout",
     "output_type": "stream",
     "text": [
      "Predicción de casos positivos para el 21/11/2020:  183410\n"
     ]
    }
   ],
   "source": [
    "#Comprobación de la predicción para 7 días despues del 14/11/2020\n",
    "dia = x[-1] + 7 #Se obtiene el dia a predecir sumando la ultima fecha registrada mas una semana\n",
    "prediccion_semana = modelo_lineal.predict([[dia]])\n",
    "print('Predicción de casos positivos para el 21/11/2020: ', int(prediccion_semana))"
   ]
  },
  {
   "cell_type": "code",
   "execution_count": 54,
   "metadata": {},
   "outputs": [
    {
     "data": {
      "image/png": "[encoded data removed]",
      "text/plain": [
       "<Figure size 432x288 with 1 Axes>"
      ]
     },
     "metadata": {
      "needs_background": "light"
     },
     "output_type": "display_data"
    }
   ],
   "source": [
    "#Gráfica de los datos y la predicción\n",
    "x_real = np.array(range(0, 325))\n",
    "\n",
    "plt.scatter(x, y , color = 'red')\n",
    "plt.plot(x_real, modelo_lineal.predict(x_real.reshape(-1, 1)), color = 'green')\n",
    "plt.legend(('Ajuste lineal', 'Casos confirmados'))\n",
    "plt.show()"
   ]
  },
  {
   "cell_type": "markdown",
   "metadata": {},
   "source": [
    "De acuerdo al modelo entrenado, el número de casos que habrá el 21/11/2020 será 183410 confirmados.\n",
    "\n",
    "### 1.2 Predicción para un mes"
   ]
  },
  {
   "cell_type": "code",
   "execution_count": 34,
   "metadata": {},
   "outputs": [
    {
     "name": "stdout",
     "output_type": "stream",
     "text": [
      "Predicción de casos positivos para el 13/12/2020:  201854\n"
     ]
    }
   ],
   "source": [
    "#Comprobación de la predicción para 30 días despues del 14/11/2020\n",
    "dia = x[-1] + 30 #Se obtiene el dia a predecir sumando la ultima fecha registrada mas una semana\n",
    "prediccion_mes = modelo_lineal.predict([[dia]])\n",
    "print('Predicción de casos positivos para el 13/12/2020: ', int(prediccion_mes))"
   ]
  },
  {
   "cell_type": "code",
   "execution_count": 42,
   "metadata": {},
   "outputs": [
    {
     "data": {
      "image/png": "[encoded data removed]",
      "text/plain": [
       "<Figure size 432x288 with 1 Axes>"
      ]
     },
     "metadata": {
      "needs_background": "light"
     },
     "output_type": "display_data"
    }
   ],
   "source": [
    "#Gráfica de los datos y la predicción\n",
    "x_real = np.array(range(0, 348))\n",
    "\n",
    "plt.scatter(x, y, color = 'red')\n",
    "plt.plot(x_real, modelo_lineal.predict(x_real.reshape(-1, 1)), color = 'green')\n",
    "plt.legend(('Ajuste lineal', 'Casos confirmados'))\n",
    "plt.show()"
   ]
  },
  {
   "cell_type": "markdown",
   "metadata": {},
   "source": [
    "De acuerdo al modelo entrenado, el número de casos que habrá el 13/12/2020 será 201854 confirmados.\n",
    "\n",
    "### 2) Predicción de casos con pacientes recuperados (Próxima semana, Próximo mes)"
   ]
  },
  {
   "cell_type": "code",
   "execution_count": 43,
   "metadata": {},
   "outputs": [
    {
     "data": {
      "text/html": [
       "<div>\n",
       "<style scoped>\n",
       "    .dataframe tbody tr th:only-of-type {\n",
       "        vertical-align: middle;\n",
       "    }\n",
       "\n",
       "    .dataframe tbody tr th {\n",
       "        vertical-align: top;\n",
       "    }\n",
       "\n",
       "    .dataframe thead th {\n",
       "        text-align: right;\n",
       "    }\n",
       "</style>\n",
       "<table border=\"1\" class=\"dataframe\">\n",
       "  <thead>\n",
       "    <tr style=\"text-align: right;\">\n",
       "      <th></th>\n",
       "      <th>hospitalizadas_altas</th>\n",
       "      <th>created_at</th>\n",
       "    </tr>\n",
       "  </thead>\n",
       "  <tbody>\n",
       "    <tr>\n",
       "      <th>0</th>\n",
       "      <td>0</td>\n",
       "      <td>72</td>\n",
       "    </tr>\n",
       "    <tr>\n",
       "      <th>1</th>\n",
       "      <td>0</td>\n",
       "      <td>73</td>\n",
       "    </tr>\n",
       "    <tr>\n",
       "      <th>2</th>\n",
       "      <td>0</td>\n",
       "      <td>74</td>\n",
       "    </tr>\n",
       "    <tr>\n",
       "      <th>3</th>\n",
       "      <td>0</td>\n",
       "      <td>75</td>\n",
       "    </tr>\n",
       "    <tr>\n",
       "      <th>4</th>\n",
       "      <td>0</td>\n",
       "      <td>76</td>\n",
       "    </tr>\n",
       "    <tr>\n",
       "      <th>...</th>\n",
       "      <td>...</td>\n",
       "      <td>...</td>\n",
       "    </tr>\n",
       "    <tr>\n",
       "      <th>242</th>\n",
       "      <td>22028</td>\n",
       "      <td>314</td>\n",
       "    </tr>\n",
       "    <tr>\n",
       "      <th>243</th>\n",
       "      <td>22099</td>\n",
       "      <td>315</td>\n",
       "    </tr>\n",
       "    <tr>\n",
       "      <th>244</th>\n",
       "      <td>22195</td>\n",
       "      <td>316</td>\n",
       "    </tr>\n",
       "    <tr>\n",
       "      <th>245</th>\n",
       "      <td>22242</td>\n",
       "      <td>317</td>\n",
       "    </tr>\n",
       "    <tr>\n",
       "      <th>246</th>\n",
       "      <td>22346</td>\n",
       "      <td>318</td>\n",
       "    </tr>\n",
       "  </tbody>\n",
       "</table>\n",
       "<p>247 rows × 2 columns</p>\n",
       "</div>"
      ],
      "text/plain": [
       "     hospitalizadas_altas  created_at\n",
       "0                       0          72\n",
       "1                       0          73\n",
       "2                       0          74\n",
       "3                       0          75\n",
       "4                       0          76\n",
       "..                    ...         ...\n",
       "242                 22028         314\n",
       "243                 22099         315\n",
       "244                 22195         316\n",
       "245                 22242         317\n",
       "246                 22346         318\n",
       "\n",
       "[247 rows x 2 columns]"
      ]
     },
     "execution_count": 43,
     "metadata": {},
     "output_type": "execute_result"
    }
   ],
   "source": [
    "#Se filtran los datos para obtener solo los casos recuperados\n",
    "datos_recuperados = datos.loc[:, ['hospitalizadas_altas', 'created_at']]\n",
    "\n",
    "#Expresar los datos de fecha en número de dias desde el inicio de año\n",
    "formato = '%d/%m/%Y'\n",
    "fecha = datos_recuperados['created_at']\n",
    "datos_recuperados['created_at'] = fecha.map(lambda x: \n",
    "    (datetime.strptime(x, formato) - datetime.strptime('01/01/2020', formato)).days\n",
    ")\n",
    "\n",
    "datos_recuperados"
   ]
  },
  {
   "cell_type": "code",
   "execution_count": 45,
   "metadata": {},
   "outputs": [
    {
     "data": {
      "text/plain": [
       "<AxesSubplot:xlabel='created_at'>"
      ]
     },
     "execution_count": 45,
     "metadata": {},
     "output_type": "execute_result"
    },
    {
     "data": {
      "image/png": "[encoded data removed]",
      "text/plain": [
       "<Figure size 432x288 with 1 Axes>"
      ]
     },
     "metadata": {
      "needs_background": "light"
     },
     "output_type": "display_data"
    }
   ],
   "source": [
    "datos_recuperados.plot(x = 'created_at', y = 'hospitalizadas_altas')"
   ]
  },
  {
   "cell_type": "markdown",
   "metadata": {},
   "source": [
    "Como se puede observar, el número de casos inicia el día 72 (13/03/2020) con 23 casos confirmados. Hasta el dia 318 (14/11/2020) se registran 22346 casos recuperados."
   ]
  },
  {
   "cell_type": "code",
   "execution_count": 48,
   "metadata": {},
   "outputs": [
    {
     "data": {
      "text/plain": [
       "LinearRegression()"
      ]
     },
     "execution_count": 48,
     "metadata": {},
     "output_type": "execute_result"
    }
   ],
   "source": [
    "#Obtención de las variables para el entrenamiento\n",
    "x = list(datos_recuperados.iloc[:, 1]) #Fecha (Número de día)\n",
    "y = list(datos_recuperados.iloc[:, 0]) #Numero de recuperados\n",
    "\n",
    "#Creación y entranamiento del modelo\n",
    "modelo_lineal = linear_model.LinearRegression()\n",
    "modelo_lineal.fit(np.array(x).reshape(-1, 1), y)"
   ]
  },
  {
   "cell_type": "markdown",
   "metadata": {},
   "source": [
    "### 2.1 Predicción para una semana"
   ]
  },
  {
   "cell_type": "code",
   "execution_count": 51,
   "metadata": {},
   "outputs": [
    {
     "name": "stdout",
     "output_type": "stream",
     "text": [
      "Predicción de casos recuperados para el 21/11/2020:  23404\n"
     ]
    }
   ],
   "source": [
    "#Comprobación de la predicción para 7 días despues del 14/11/2020\n",
    "dia = x[-1] + 7 #Se obtiene el dia a predecir sumando la ultima fecha registrada mas una semana\n",
    "prediccion_semana = modelo_lineal.predict([[dia]])\n",
    "print('Predicción de casos recuperados para el 21/11/2020: ', int(prediccion_semana))"
   ]
  },
  {
   "cell_type": "code",
   "execution_count": 50,
   "metadata": {},
   "outputs": [
    {
     "data": {
      "image/png": "[encoded data removed]",
      "text/plain": [
       "<Figure size 432x288 with 1 Axes>"
      ]
     },
     "metadata": {
      "needs_background": "light"
     },
     "output_type": "display_data"
    }
   ],
   "source": [
    "#Gráfica de los datos y la predicción\n",
    "x_real = np.array(range(0, 325))\n",
    "\n",
    "plt.scatter(x, y , color = 'red')\n",
    "plt.plot(x_real, modelo_lineal.predict(x_real.reshape(-1, 1)), color = 'green')\n",
    "plt.legend(('Ajuste lineal', 'Casos recuperados'))\n",
    "plt.show()"
   ]
  },
  {
   "cell_type": "markdown",
   "metadata": {},
   "source": [
    "De acuerdo al modelo entrenado, el número de casos que habrá el 13/12/2020 será 23404 recuperados.\n",
    "\n",
    "### 2.2 Predicción para un mes"
   ]
  },
  {
   "cell_type": "code",
   "execution_count": 52,
   "metadata": {},
   "outputs": [
    {
     "name": "stdout",
     "output_type": "stream",
     "text": [
      "Predicción de casos recuperados para el 13/12/2020:  25792\n"
     ]
    }
   ],
   "source": [
    "#Comprobación de la predicción para 30 días despues del 14/11/2020\n",
    "dia = x[-1] + 30 #Se obtiene el dia a predecir sumando la ultima fecha registrada mas una semana\n",
    "prediccion_mes = modelo_lineal.predict([[dia]])\n",
    "print('Predicción de casos recuperados para el 13/12/2020: ', int(prediccion_mes))"
   ]
  },
  {
   "cell_type": "code",
   "execution_count": 53,
   "metadata": {},
   "outputs": [
    {
     "data": {
      "image/png": "[encoded data removed]",
      "text/plain": [
       "<Figure size 432x288 with 1 Axes>"
      ]
     },
     "metadata": {
      "needs_background": "light"
     },
     "output_type": "display_data"
    }
   ],
   "source": [
    "#Gráfica de los datos y la predicción\n",
    "x_real = np.array(range(0, 348))\n",
    "\n",
    "plt.scatter(x, y , color = 'red')\n",
    "plt.plot(x_real, modelo_lineal.predict(x_real.reshape(-1, 1)), color = 'green')\n",
    "plt.legend(('Ajuste lineal', 'Casos recuperados'))\n",
    "plt.show()"
   ]
  },
  {
   "cell_type": "markdown",
   "metadata": {},
   "source": [
    "De acuerdo al modelo entrenado, el número de casos que habrá el 13/12/2020 será 25792 recuperados.\n",
    "\n",
    "### 3) Análisis\n",
    "\n",
    "Los datos fueron obtenidos del siguiente enlace: https://github.com/andrab/ecuacovid, el cual es un proyecto que reune los datos de los informes nacionales. Con respecto al modelo lineal entrenado en este trabajo, se ha utilizado un total de 246 registros, de los cuales los datos principales ha tratar fueron: la fecha ('created_at'), los casos confirmados ('positivas'), y los casos recuperados ('hospitalizadas_altas'). \n",
    "\n",
    "### 4) Conclusiones\n",
    "\n",
    "Ya que los datos presentados se mantienen bastante constantes y no varian demasiado en cuanto a linealidad, entonces se puede declarar que el modelo de regresión lineal podría ser la alternativa más acertada para predecir casos de COVID-19 durante la pandemia en Ecuador.\n",
    "\n",
    "### 5) Criterio personal (Político, económico y social de la situación)\n",
    "\n",
    "La emergencia sanitaria por COVID-19 en el Ecuador y en el resto del mundo es una situación realmente dura, siendo asi que la gran mayoría de sistemas de salud se han visto saturados con el incremento y llegada de nuevos pacientes. La prioridad de las naciones debería ser apoyar a la investigación de la cura contra el virus, o caso contrario, apoyar a la compra de insumos médicos para respaldar a las casas de salud."
   ]
  }
 ],
 "metadata": {
  "kernelspec": {
   "display_name": "Python 3",
   "language": "python",
   "name": "python3"
  },
  "language_info": {
   "codemirror_mode": {
    "name": "ipython",
    "version": 3
   },
   "file_extension": ".py",
   "mimetype": "text/x-python",
   "name": "python",
   "nbconvert_exporter": "python",
   "pygments_lexer": "ipython3",
   "version": "3.7.9"
  }
 },
 "nbformat": 4,
 "nbformat_minor": 4
}
