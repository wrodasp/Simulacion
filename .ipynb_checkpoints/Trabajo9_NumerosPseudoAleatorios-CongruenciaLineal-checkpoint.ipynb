{
 "cells": [
  {
   "cell_type": "markdown",
   "metadata": {},
   "source": [
    "Nombre: Wilson Rodas\n",
    "\n",
    "# Generación de números pseudo-aleatorios por medios cuadrados"
   ]
  },
  {
   "cell_type": "code",
   "execution_count": 5,
   "metadata": {},
   "outputs": [],
   "source": [
    "#Importación de los paquetes\n",
    "import math\n",
    "import psutil\n",
    "import resource\n",
    "import matplotlib.pyplot as pp\n",
    "\n",
    "%matplotlib inline"
   ]
  },
  {
   "cell_type": "markdown",
   "metadata": {},
   "source": [
    "### 1. Definiendo la función de generación"
   ]
  },
  {
   "cell_type": "code",
   "execution_count": 6,
   "metadata": {},
   "outputs": [],
   "source": [
    "def generar_numeros_aleatorios(x0, a, b, m, iteraciones):\n",
    "    xn = x0\n",
    "    \n",
    "    for i in range(iteraciones):\n",
    "        aux = (a * xn + b) % m\n",
    "    \n",
    "        if i > 0:\n",
    "            ui = xn / m\n",
    "            print(f'Paso: {i}, Xn: {xn}, Ui: {ui}')\n",
    "        else:\n",
    "            print(f'Paso: {i}, Xn: {xn}, Ui: ---')\n",
    "    \n",
    "        xn = aux"
   ]
  },
  {
   "cell_type": "markdown",
   "metadata": {},
   "source": [
    "### 2. Usando información del Hardware como semilla inicial"
   ]
  },
  {
   "cell_type": "code",
   "execution_count": 10,
   "metadata": {},
   "outputs": [
    {
     "name": "stdout",
     "output_type": "stream",
     "text": [
      "Semilla 1: 99288\n",
      "\n",
      "Paso: 0, Xn: 99288, Ui: ---\n",
      "Paso: 1, Xn: 6, Ui: 0.5454545454545454\n",
      "Paso: 2, Xn: 4, Ui: 0.36363636363636365\n",
      "Paso: 3, Xn: 5, Ui: 0.45454545454545453\n",
      "Paso: 4, Xn: 10, Ui: 0.9090909090909091\n",
      "Paso: 5, Xn: 2, Ui: 0.18181818181818182\n",
      "Paso: 6, Xn: 6, Ui: 0.5454545454545454\n",
      "Paso: 7, Xn: 4, Ui: 0.36363636363636365\n",
      "Paso: 8, Xn: 5, Ui: 0.45454545454545453\n",
      "Paso: 9, Xn: 10, Ui: 0.9090909090909091\n",
      "\n",
      "Semilla 2: 68054\n",
      "\n",
      "Paso: 0, Xn: 68054, Ui: ---\n",
      "Paso: 1, Xn: 1, Ui: 0.3333333333333333\n",
      "Paso: 2, Xn: 0, Ui: 0.0\n",
      "Paso: 3, Xn: 2, Ui: 0.6666666666666666\n",
      "Paso: 4, Xn: 1, Ui: 0.3333333333333333\n",
      "Paso: 5, Xn: 0, Ui: 0.0\n",
      "Paso: 6, Xn: 2, Ui: 0.6666666666666666\n",
      "Paso: 7, Xn: 1, Ui: 0.3333333333333333\n",
      "Paso: 8, Xn: 0, Ui: 0.0\n",
      "Paso: 9, Xn: 2, Ui: 0.6666666666666666\n",
      "\n",
      "Semilla 3: 8166275072\n",
      "\n",
      "Paso: 0, Xn: 8166275072, Ui: ---\n",
      "Paso: 1, Xn: 7, Ui: 0.6363636363636364\n",
      "Paso: 2, Xn: 0, Ui: 0.0\n",
      "Paso: 3, Xn: 2, Ui: 0.18181818181818182\n",
      "Paso: 4, Xn: 3, Ui: 0.2727272727272727\n",
      "Paso: 5, Xn: 9, Ui: 0.8181818181818182\n",
      "Paso: 6, Xn: 1, Ui: 0.09090909090909091\n",
      "Paso: 7, Xn: 8, Ui: 0.7272727272727273\n",
      "Paso: 8, Xn: 6, Ui: 0.5454545454545454\n",
      "Paso: 9, Xn: 5, Ui: 0.45454545454545453\n",
      "\n",
      "Semilla 4: 18382094336\n",
      "\n",
      "Paso: 0, Xn: 18382094336, Ui: ---\n",
      "Paso: 1, Xn: 10, Ui: 0.43478260869565216\n",
      "Paso: 2, Xn: 3, Ui: 0.13043478260869565\n",
      "Paso: 3, Xn: 5, Ui: 0.21739130434782608\n",
      "Paso: 4, Xn: 11, Ui: 0.4782608695652174\n",
      "Paso: 5, Xn: 6, Ui: 0.2608695652173913\n",
      "Paso: 6, Xn: 14, Ui: 0.6086956521739131\n",
      "Paso: 7, Xn: 15, Ui: 0.6521739130434783\n",
      "Paso: 8, Xn: 18, Ui: 0.782608695652174\n",
      "Paso: 9, Xn: 4, Ui: 0.17391304347826086\n",
      "\n",
      "Semilla 5: 1018554\n",
      "\n",
      "Paso: 0, Xn: 1018554, Ui: ---\n",
      "Paso: 1, Xn: 18, Ui: 0.9473684210526315\n",
      "Paso: 2, Xn: 1, Ui: 0.05263157894736842\n",
      "Paso: 3, Xn: 6, Ui: 0.3157894736842105\n",
      "Paso: 4, Xn: 9, Ui: 0.47368421052631576\n",
      "Paso: 5, Xn: 7, Ui: 0.3684210526315789\n",
      "Paso: 6, Xn: 2, Ui: 0.10526315789473684\n",
      "Paso: 7, Xn: 18, Ui: 0.9473684210526315\n",
      "Paso: 8, Xn: 1, Ui: 0.05263157894736842\n",
      "Paso: 9, Xn: 6, Ui: 0.3157894736842105\n"
     ]
    }
   ],
   "source": [
    "#Usaremos información del disco\n",
    "semilla1 = psutil.disk_io_counters()[0] #Contador de lecturas\n",
    "semilla2 = psutil.disk_io_counters()[1] #Contador de escrituras\n",
    "semilla3 = psutil.disk_io_counters()[2] #Total de bytes leídos\n",
    "semilla4 = psutil.disk_io_counters()[3] #Total de bytes escritos\n",
    "semilla5 = psutil.disk_io_counters()[4] #Tiempo total de lectura\n",
    "\n",
    "print(f'Semilla 1: {semilla1}\\n')\n",
    "generar_numeros_aleatorios(semilla1, 5, 7, 11, 10)\n",
    "\n",
    "print(f'\\nSemilla 2: {semilla2}\\n')\n",
    "generar_numeros_aleatorios(semilla2, 7, 11, 3, 10)\n",
    "\n",
    "print(f'\\nSemilla 3: {semilla3}\\n')\n",
    "generar_numeros_aleatorios(semilla3, 17, 13, 11, 10)\n",
    "\n",
    "print(f'\\nSemilla 4: {semilla4}\\n')\n",
    "generar_numeros_aleatorios(semilla4, 3, 19, 23, 10)\n",
    "\n",
    "print(f'\\nSemilla 5: {semilla5}\\n')\n",
    "generar_numeros_aleatorios(semilla5, 31, 13, 19, 10)\n"
   ]
  },
  {
   "cell_type": "markdown",
   "metadata": {},
   "source": [
    "### 3. Usando semillas definidas por el estudiante"
   ]
  },
  {
   "cell_type": "code",
   "execution_count": 11,
   "metadata": {},
   "outputs": [
    {
     "name": "stdout",
     "output_type": "stream",
     "text": [
      "Semilla 1: 23455\n",
      "\n",
      "Paso: 0, Xn: 23455, Ui: ---\n",
      "Paso: 1, Xn: 0, Ui: 0.0\n",
      "Paso: 2, Xn: 7, Ui: 0.6363636363636364\n",
      "Paso: 3, Xn: 9, Ui: 0.8181818181818182\n",
      "Paso: 4, Xn: 8, Ui: 0.7272727272727273\n",
      "Paso: 5, Xn: 3, Ui: 0.2727272727272727\n",
      "Paso: 6, Xn: 0, Ui: 0.0\n",
      "Paso: 7, Xn: 7, Ui: 0.6363636363636364\n",
      "Paso: 8, Xn: 9, Ui: 0.8181818181818182\n",
      "Paso: 9, Xn: 8, Ui: 0.7272727272727273\n",
      "\n",
      "Semilla 2: 66613\n",
      "\n",
      "Paso: 0, Xn: 66613, Ui: ---\n",
      "Paso: 1, Xn: 0, Ui: 0.0\n",
      "Paso: 2, Xn: 2, Ui: 0.6666666666666666\n",
      "Paso: 3, Xn: 1, Ui: 0.3333333333333333\n",
      "Paso: 4, Xn: 0, Ui: 0.0\n",
      "Paso: 5, Xn: 2, Ui: 0.6666666666666666\n",
      "Paso: 6, Xn: 1, Ui: 0.3333333333333333\n",
      "Paso: 7, Xn: 0, Ui: 0.0\n",
      "Paso: 8, Xn: 2, Ui: 0.6666666666666666\n",
      "Paso: 9, Xn: 1, Ui: 0.3333333333333333\n",
      "\n",
      "Semilla 3: 29449645\n",
      "\n",
      "Paso: 0, Xn: 29449645, Ui: ---\n",
      "Paso: 1, Xn: 10, Ui: 0.9090909090909091\n",
      "Paso: 2, Xn: 7, Ui: 0.6363636363636364\n",
      "Paso: 3, Xn: 0, Ui: 0.0\n",
      "Paso: 4, Xn: 2, Ui: 0.18181818181818182\n",
      "Paso: 5, Xn: 3, Ui: 0.2727272727272727\n",
      "Paso: 6, Xn: 9, Ui: 0.8181818181818182\n",
      "Paso: 7, Xn: 1, Ui: 0.09090909090909091\n",
      "Paso: 8, Xn: 8, Ui: 0.7272727272727273\n",
      "Paso: 9, Xn: 6, Ui: 0.5454545454545454\n",
      "\n",
      "Semilla 4: 758293\n",
      "\n",
      "Paso: 0, Xn: 758293, Ui: ---\n",
      "Paso: 1, Xn: 14, Ui: 0.6086956521739131\n",
      "Paso: 2, Xn: 15, Ui: 0.6521739130434783\n",
      "Paso: 3, Xn: 18, Ui: 0.782608695652174\n",
      "Paso: 4, Xn: 4, Ui: 0.17391304347826086\n",
      "Paso: 5, Xn: 8, Ui: 0.34782608695652173\n",
      "Paso: 6, Xn: 20, Ui: 0.8695652173913043\n",
      "Paso: 7, Xn: 10, Ui: 0.43478260869565216\n",
      "Paso: 8, Xn: 3, Ui: 0.13043478260869565\n",
      "Paso: 9, Xn: 5, Ui: 0.21739130434782608\n",
      "\n",
      "Semilla 5: 92747176\n",
      "\n",
      "Paso: 0, Xn: 92747176, Ui: ---\n",
      "Paso: 1, Xn: 9, Ui: 0.47368421052631576\n",
      "Paso: 2, Xn: 7, Ui: 0.3684210526315789\n",
      "Paso: 3, Xn: 2, Ui: 0.10526315789473684\n",
      "Paso: 4, Xn: 18, Ui: 0.9473684210526315\n",
      "Paso: 5, Xn: 1, Ui: 0.05263157894736842\n",
      "Paso: 6, Xn: 6, Ui: 0.3157894736842105\n",
      "Paso: 7, Xn: 9, Ui: 0.47368421052631576\n",
      "Paso: 8, Xn: 7, Ui: 0.3684210526315789\n",
      "Paso: 9, Xn: 2, Ui: 0.10526315789473684\n"
     ]
    }
   ],
   "source": [
    "#Usaremos las siguientes semillas\n",
    "semilla1 = 23455\n",
    "semilla2 = 66613\n",
    "semilla3 = 29449645\n",
    "semilla4 = 758293\n",
    "semilla5 = 92747176\n",
    "\n",
    "print(f'Semilla 1: {semilla1}\\n')\n",
    "generar_numeros_aleatorios(semilla1, 5, 7, 11, 10)\n",
    "\n",
    "print(f'\\nSemilla 2: {semilla2}\\n')\n",
    "generar_numeros_aleatorios(semilla2, 7, 11, 3, 10)\n",
    "\n",
    "print(f'\\nSemilla 3: {semilla3}\\n')\n",
    "generar_numeros_aleatorios(semilla3, 17, 13, 11, 10)\n",
    "\n",
    "print(f'\\nSemilla 4: {semilla4}\\n')\n",
    "generar_numeros_aleatorios(semilla4, 3, 19, 23, 10)\n",
    "\n",
    "print(f'\\nSemilla 5: {semilla5}\\n')\n",
    "generar_numeros_aleatorios(semilla5, 31, 13, 19, 10)"
   ]
  },
  {
   "cell_type": "markdown",
   "metadata": {},
   "source": [
    "### 4. Conclusiones\n",
    "\n",
    "Mediante el presente trabajo se ha implementado y usado el método por congruencia lineal para la generación\n",
    "de números pseudo-aleatorios. El método de congruencia lineal genera números aleatorios dentro de un periodo, los cuales se repiten cada periodo. La primera parte toma como semillas la información referente a los procesos\n",
    "de entrada y salida del disco duro, mientras que en la segunda se establecen de forma arbitraria por el usuario."
   ]
  }
 ],
 "metadata": {
  "kernelspec": {
   "display_name": "Python 3",
   "language": "python",
   "name": "python3"
  },
  "language_info": {
   "codemirror_mode": {
    "name": "ipython",
    "version": 3
   },
   "file_extension": ".py",
   "mimetype": "text/x-python",
   "name": "python",
   "nbconvert_exporter": "python",
   "pygments_lexer": "ipython3",
   "version": "3.7.9"
  }
 },
 "nbformat": 4,
 "nbformat_minor": 4
}
